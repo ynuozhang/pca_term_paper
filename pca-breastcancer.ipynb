{
 "cells": [
  {
   "cell_type": "code",
   "execution_count": 5,
   "id": "75fef586-938c-4f42-90f2-3852276bbcd1",
   "metadata": {
    "tags": []
   },
   "outputs": [],
   "source": [
    "import pandas as pd\n",
    "import numpy as np\n",
    "import matplotlib.pyplot as plt\n",
    "import os,sys"
   ]
  },
  {
   "cell_type": "code",
   "execution_count": 6,
   "id": "398b3d01-a500-432e-b120-f1fbe0c9f95e",
   "metadata": {},
   "outputs": [],
   "source": [
    "IMAGES_PATH = os.path.join('./images/')\n",
    "os.makedirs(IMAGES_PATH, exist_ok=True)\n",
    "\n",
    "def save_fig(fig_id, tight_layout=True, fig_extension=\"png\", resolution=300):\n",
    "    path = os.path.join(IMAGES_PATH, fig_id + \".\" + fig_extension)\n",
    "    print(\"Saving figure\", fig_id)\n",
    "    if tight_layout:\n",
    "        plt.tight_layout()\n",
    "    plt.savefig(path, format=fig_extension, dpi=resolution)"
   ]
  },
  {
   "cell_type": "code",
   "execution_count": 7,
   "id": "ced3649b-a60c-4e21-ba09-5f4ee5b58535",
   "metadata": {},
   "outputs": [
    {
     "data": {
      "text/plain": [
       "(569, 32)"
      ]
     },
     "execution_count": 7,
     "metadata": {},
     "output_type": "execute_result"
    }
   ],
   "source": [
    "df = pd.read_csv('breast-cancer.csv')\n",
    "df.shape"
   ]
  },
  {
   "cell_type": "code",
   "execution_count": 8,
   "id": "d904d397-964e-43f7-9640-64497b8ad249",
   "metadata": {
    "tags": []
   },
   "outputs": [
    {
     "data": {
      "text/plain": [
       "0"
      ]
     },
     "execution_count": 8,
     "metadata": {},
     "output_type": "execute_result"
    }
   ],
   "source": [
    "sum(df.isna().sum())"
   ]
  },
  {
   "cell_type": "code",
   "execution_count": 9,
   "id": "b5e2cf4d-f7b2-4975-8a63-b95a70d60918",
   "metadata": {},
   "outputs": [
    {
     "data": {
      "text/html": [
       "<div>\n",
       "<style scoped>\n",
       "    .dataframe tbody tr th:only-of-type {\n",
       "        vertical-align: middle;\n",
       "    }\n",
       "\n",
       "    .dataframe tbody tr th {\n",
       "        vertical-align: top;\n",
       "    }\n",
       "\n",
       "    .dataframe thead th {\n",
       "        text-align: right;\n",
       "    }\n",
       "</style>\n",
       "<table border=\"1\" class=\"dataframe\">\n",
       "  <thead>\n",
       "    <tr style=\"text-align: right;\">\n",
       "      <th></th>\n",
       "      <th>id</th>\n",
       "      <th>diagnosis</th>\n",
       "      <th>radius_mean</th>\n",
       "      <th>texture_mean</th>\n",
       "      <th>perimeter_mean</th>\n",
       "      <th>area_mean</th>\n",
       "      <th>smoothness_mean</th>\n",
       "      <th>compactness_mean</th>\n",
       "      <th>concavity_mean</th>\n",
       "      <th>concave points_mean</th>\n",
       "      <th>...</th>\n",
       "      <th>radius_worst</th>\n",
       "      <th>texture_worst</th>\n",
       "      <th>perimeter_worst</th>\n",
       "      <th>area_worst</th>\n",
       "      <th>smoothness_worst</th>\n",
       "      <th>compactness_worst</th>\n",
       "      <th>concavity_worst</th>\n",
       "      <th>concave points_worst</th>\n",
       "      <th>symmetry_worst</th>\n",
       "      <th>fractal_dimension_worst</th>\n",
       "    </tr>\n",
       "  </thead>\n",
       "  <tbody>\n",
       "    <tr>\n",
       "      <th>0</th>\n",
       "      <td>842302</td>\n",
       "      <td>M</td>\n",
       "      <td>17.99</td>\n",
       "      <td>10.38</td>\n",
       "      <td>122.80</td>\n",
       "      <td>1001.0</td>\n",
       "      <td>0.11840</td>\n",
       "      <td>0.27760</td>\n",
       "      <td>0.3001</td>\n",
       "      <td>0.14710</td>\n",
       "      <td>...</td>\n",
       "      <td>25.38</td>\n",
       "      <td>17.33</td>\n",
       "      <td>184.60</td>\n",
       "      <td>2019.0</td>\n",
       "      <td>0.1622</td>\n",
       "      <td>0.6656</td>\n",
       "      <td>0.7119</td>\n",
       "      <td>0.2654</td>\n",
       "      <td>0.4601</td>\n",
       "      <td>0.11890</td>\n",
       "    </tr>\n",
       "    <tr>\n",
       "      <th>1</th>\n",
       "      <td>842517</td>\n",
       "      <td>M</td>\n",
       "      <td>20.57</td>\n",
       "      <td>17.77</td>\n",
       "      <td>132.90</td>\n",
       "      <td>1326.0</td>\n",
       "      <td>0.08474</td>\n",
       "      <td>0.07864</td>\n",
       "      <td>0.0869</td>\n",
       "      <td>0.07017</td>\n",
       "      <td>...</td>\n",
       "      <td>24.99</td>\n",
       "      <td>23.41</td>\n",
       "      <td>158.80</td>\n",
       "      <td>1956.0</td>\n",
       "      <td>0.1238</td>\n",
       "      <td>0.1866</td>\n",
       "      <td>0.2416</td>\n",
       "      <td>0.1860</td>\n",
       "      <td>0.2750</td>\n",
       "      <td>0.08902</td>\n",
       "    </tr>\n",
       "    <tr>\n",
       "      <th>2</th>\n",
       "      <td>84300903</td>\n",
       "      <td>M</td>\n",
       "      <td>19.69</td>\n",
       "      <td>21.25</td>\n",
       "      <td>130.00</td>\n",
       "      <td>1203.0</td>\n",
       "      <td>0.10960</td>\n",
       "      <td>0.15990</td>\n",
       "      <td>0.1974</td>\n",
       "      <td>0.12790</td>\n",
       "      <td>...</td>\n",
       "      <td>23.57</td>\n",
       "      <td>25.53</td>\n",
       "      <td>152.50</td>\n",
       "      <td>1709.0</td>\n",
       "      <td>0.1444</td>\n",
       "      <td>0.4245</td>\n",
       "      <td>0.4504</td>\n",
       "      <td>0.2430</td>\n",
       "      <td>0.3613</td>\n",
       "      <td>0.08758</td>\n",
       "    </tr>\n",
       "    <tr>\n",
       "      <th>3</th>\n",
       "      <td>84348301</td>\n",
       "      <td>M</td>\n",
       "      <td>11.42</td>\n",
       "      <td>20.38</td>\n",
       "      <td>77.58</td>\n",
       "      <td>386.1</td>\n",
       "      <td>0.14250</td>\n",
       "      <td>0.28390</td>\n",
       "      <td>0.2414</td>\n",
       "      <td>0.10520</td>\n",
       "      <td>...</td>\n",
       "      <td>14.91</td>\n",
       "      <td>26.50</td>\n",
       "      <td>98.87</td>\n",
       "      <td>567.7</td>\n",
       "      <td>0.2098</td>\n",
       "      <td>0.8663</td>\n",
       "      <td>0.6869</td>\n",
       "      <td>0.2575</td>\n",
       "      <td>0.6638</td>\n",
       "      <td>0.17300</td>\n",
       "    </tr>\n",
       "    <tr>\n",
       "      <th>4</th>\n",
       "      <td>84358402</td>\n",
       "      <td>M</td>\n",
       "      <td>20.29</td>\n",
       "      <td>14.34</td>\n",
       "      <td>135.10</td>\n",
       "      <td>1297.0</td>\n",
       "      <td>0.10030</td>\n",
       "      <td>0.13280</td>\n",
       "      <td>0.1980</td>\n",
       "      <td>0.10430</td>\n",
       "      <td>...</td>\n",
       "      <td>22.54</td>\n",
       "      <td>16.67</td>\n",
       "      <td>152.20</td>\n",
       "      <td>1575.0</td>\n",
       "      <td>0.1374</td>\n",
       "      <td>0.2050</td>\n",
       "      <td>0.4000</td>\n",
       "      <td>0.1625</td>\n",
       "      <td>0.2364</td>\n",
       "      <td>0.07678</td>\n",
       "    </tr>\n",
       "  </tbody>\n",
       "</table>\n",
       "<p>5 rows × 32 columns</p>\n",
       "</div>"
      ],
      "text/plain": [
       "         id diagnosis  radius_mean  texture_mean  perimeter_mean  area_mean  \\\n",
       "0    842302         M        17.99         10.38          122.80     1001.0   \n",
       "1    842517         M        20.57         17.77          132.90     1326.0   \n",
       "2  84300903         M        19.69         21.25          130.00     1203.0   \n",
       "3  84348301         M        11.42         20.38           77.58      386.1   \n",
       "4  84358402         M        20.29         14.34          135.10     1297.0   \n",
       "\n",
       "   smoothness_mean  compactness_mean  concavity_mean  concave points_mean  \\\n",
       "0          0.11840           0.27760          0.3001              0.14710   \n",
       "1          0.08474           0.07864          0.0869              0.07017   \n",
       "2          0.10960           0.15990          0.1974              0.12790   \n",
       "3          0.14250           0.28390          0.2414              0.10520   \n",
       "4          0.10030           0.13280          0.1980              0.10430   \n",
       "\n",
       "   ...  radius_worst  texture_worst  perimeter_worst  area_worst  \\\n",
       "0  ...         25.38          17.33           184.60      2019.0   \n",
       "1  ...         24.99          23.41           158.80      1956.0   \n",
       "2  ...         23.57          25.53           152.50      1709.0   \n",
       "3  ...         14.91          26.50            98.87       567.7   \n",
       "4  ...         22.54          16.67           152.20      1575.0   \n",
       "\n",
       "   smoothness_worst  compactness_worst  concavity_worst  concave points_worst  \\\n",
       "0            0.1622             0.6656           0.7119                0.2654   \n",
       "1            0.1238             0.1866           0.2416                0.1860   \n",
       "2            0.1444             0.4245           0.4504                0.2430   \n",
       "3            0.2098             0.8663           0.6869                0.2575   \n",
       "4            0.1374             0.2050           0.4000                0.1625   \n",
       "\n",
       "   symmetry_worst  fractal_dimension_worst  \n",
       "0          0.4601                  0.11890  \n",
       "1          0.2750                  0.08902  \n",
       "2          0.3613                  0.08758  \n",
       "3          0.6638                  0.17300  \n",
       "4          0.2364                  0.07678  \n",
       "\n",
       "[5 rows x 32 columns]"
      ]
     },
     "execution_count": 9,
     "metadata": {},
     "output_type": "execute_result"
    }
   ],
   "source": [
    "df.head()"
   ]
  },
  {
   "cell_type": "code",
   "execution_count": 10,
   "id": "97205954-dd4a-4319-b074-8d38babdc749",
   "metadata": {},
   "outputs": [
    {
     "data": {
      "text/plain": [
       "array(['M', 'B'], dtype=object)"
      ]
     },
     "execution_count": 10,
     "metadata": {},
     "output_type": "execute_result"
    }
   ],
   "source": [
    "pd.unique(df['diagnosis'])"
   ]
  },
  {
   "cell_type": "code",
   "execution_count": 11,
   "id": "dcf0d9fb-58a8-458a-8057-ab943eaafe0c",
   "metadata": {},
   "outputs": [
    {
     "data": {
      "text/plain": [
       "{0: 'B', 1: 'M'}"
      ]
     },
     "execution_count": 11,
     "metadata": {},
     "output_type": "execute_result"
    }
   ],
   "source": [
    "df.diagnosis = pd.Categorical(df.diagnosis)\n",
    "df['label'] = df.diagnosis.cat.codes\n",
    "dict(enumerate(df.diagnosis.cat.categories))"
   ]
  },
  {
   "cell_type": "code",
   "execution_count": 12,
   "id": "a683294a-0584-41f5-81f5-7371cce2797c",
   "metadata": {
    "tags": []
   },
   "outputs": [
    {
     "data": {
      "text/plain": [
       "id                            int64\n",
       "diagnosis                  category\n",
       "radius_mean                 float64\n",
       "texture_mean                float64\n",
       "perimeter_mean              float64\n",
       "area_mean                   float64\n",
       "smoothness_mean             float64\n",
       "compactness_mean            float64\n",
       "concavity_mean              float64\n",
       "concave points_mean         float64\n",
       "symmetry_mean               float64\n",
       "fractal_dimension_mean      float64\n",
       "radius_se                   float64\n",
       "texture_se                  float64\n",
       "perimeter_se                float64\n",
       "area_se                     float64\n",
       "smoothness_se               float64\n",
       "compactness_se              float64\n",
       "concavity_se                float64\n",
       "concave points_se           float64\n",
       "symmetry_se                 float64\n",
       "fractal_dimension_se        float64\n",
       "radius_worst                float64\n",
       "texture_worst               float64\n",
       "perimeter_worst             float64\n",
       "area_worst                  float64\n",
       "smoothness_worst            float64\n",
       "compactness_worst           float64\n",
       "concavity_worst             float64\n",
       "concave points_worst        float64\n",
       "symmetry_worst              float64\n",
       "fractal_dimension_worst     float64\n",
       "label                          int8\n",
       "dtype: object"
      ]
     },
     "execution_count": 12,
     "metadata": {},
     "output_type": "execute_result"
    }
   ],
   "source": [
    "df.dtypes"
   ]
  },
  {
   "cell_type": "code",
   "execution_count": 13,
   "id": "6a813af2-9f68-4f45-8c37-78e42e29b2ea",
   "metadata": {
    "tags": []
   },
   "outputs": [],
   "source": [
    "from sklearn.metrics import classification_report\n",
    "import random\n",
    "from sklearn.svm import SVC\n",
    "from sklearn.decomposition import PCA\n",
    "from sklearn.model_selection import cross_val_predict, cross_val_score,train_test_split\n",
    "from sklearn.metrics import precision_recall_curve, confusion_matrix\n",
    "from sklearn.metrics import average_precision_score\n",
    "from sklearn.manifold import TSNE\n",
    "import time\n",
    "import seaborn as sns\n",
    "from sklearn.dummy import DummyClassifier\n",
    "from sklearn.metrics import accuracy_score\n",
    "from sklearn.utils import resample\n",
    "from sklearn.metrics import roc_curve, auc\n",
    "from sklearn.linear_model import LassoCV\n",
    "from sklearn.linear_model import SGDClassifier\n",
    "from sklearn.datasets import make_classification\n",
    "from sklearn.ensemble import RandomForestClassifier\n",
    "from sklearn.metrics import f1_score"
   ]
  },
  {
   "cell_type": "code",
   "execution_count": 14,
   "id": "4dcf888d-c73e-4331-99c0-5be761273724",
   "metadata": {},
   "outputs": [
    {
     "name": "stdout",
     "output_type": "stream",
     "text": [
      "scikit-learn              0.24.2           py39ha9443f7_0  \n",
      "scikit-learn-intelex      2021.3.0         py39h06a4308_0  \n"
     ]
    }
   ],
   "source": [
    "! conda list | grep learn"
   ]
  },
  {
   "cell_type": "markdown",
   "id": "e9cd06f7-a0c6-445a-ac17-19345a0c3f45",
   "metadata": {},
   "source": [
    "# reshaffling the data"
   ]
  },
  {
   "cell_type": "code",
   "execution_count": 15,
   "id": "e412c556-b085-4389-97a4-d82d0e5bbb81",
   "metadata": {},
   "outputs": [
    {
     "name": "stdout",
     "output_type": "stream",
     "text": [
      "(569, 30) (569,)\n"
     ]
    }
   ],
   "source": [
    "np.random.seed(42)\n",
    "train = df.sample(frac=1)\n",
    "Y = train['label']\n",
    "X = train.drop(['diagnosis', 'id','label'],axis=1)\n",
    "print(X.shape, Y.shape)"
   ]
  },
  {
   "cell_type": "markdown",
   "id": "64f897e3-9e77-4798-8e88-68eb8565299a",
   "metadata": {},
   "source": [
    "# Standardize data after training and testing split"
   ]
  },
  {
   "cell_type": "code",
   "execution_count": 16,
   "id": "b2c71002-46fa-489c-805b-316812991219",
   "metadata": {},
   "outputs": [],
   "source": [
    "# standardize the test dataset using mean and std from x_train to aviod leaking\n",
    "x_train, x_test, y_train, y_test = train_test_split(X, Y, train_size=0.8, test_size = 0.2)\n",
    "mean = x_train.mean()\n",
    "std = x_train.std()\n",
    "x_train = (x_train - mean) / std\n",
    "x_test = (x_test - mean) / std\n",
    "#X_normalized = pd.concat([x_train,x_test], ignore_index = True)"
   ]
  },
  {
   "cell_type": "code",
   "execution_count": 17,
   "id": "3e9c4fec-6bba-4e4a-af6b-6866023ea815",
   "metadata": {},
   "outputs": [
    {
     "name": "stdout",
     "output_type": "stream",
     "text": [
      "(455, 30) (114, 30)\n"
     ]
    }
   ],
   "source": [
    "print(x_train.shape, x_test.shape)"
   ]
  },
  {
   "cell_type": "code",
   "execution_count": 18,
   "id": "4d4183ec-fce4-48bd-ab6b-0f6804ecfa6b",
   "metadata": {},
   "outputs": [
    {
     "name": "stdout",
     "output_type": "stream",
     "text": [
      "Saving figure dist_bc\n"
     ]
    },
    {
     "data": {
      "image/png": "[encoded data removed]",
      "text/plain": [
       "<Figure size 864x288 with 2 Axes>"
      ]
     },
     "metadata": {
      "needs_background": "light"
     },
     "output_type": "display_data"
    }
   ],
   "source": [
    "fig, axes = plt.subplots(nrows=1, ncols=2, sharey=False, figsize=(12, 4))\n",
    "fig.suptitle('distribution of labels in breast cancer dataset', fontsize=16)\n",
    "axes[0].hist(y_train)\n",
    "axes[0].set_xlabel(\"Binary lables\")\n",
    "axes[0].set_ylabel(\"Number of Samples\")\n",
    "axes[1].set_xlabel(\"Binary lables\")\n",
    "axes[1].set_ylabel(\"Number of Samples\")\n",
    "axes[0].title.set_text('in training dataset')\n",
    "axes[1].hist(y_test)\n",
    "axes[1].title.set_text('in testing dataset')\n",
    "save_fig(\"dist_bc\")\n"
   ]
  },
  {
   "cell_type": "markdown",
   "id": "9631bf4c-ad49-4fe7-9443-16f68afc1636",
   "metadata": {},
   "source": [
    "# Choosing the number of dimensions to reduce"
   ]
  },
  {
   "cell_type": "code",
   "execution_count": 90,
   "id": "d275e8c2-02db-4824-a534-8458b5ca4c7d",
   "metadata": {},
   "outputs": [
    {
     "data": {
      "text/plain": [
       "10"
      ]
     },
     "execution_count": 90,
     "metadata": {},
     "output_type": "execute_result"
    }
   ],
   "source": [
    "pca = PCA()\n",
    "pca.fit(x_train)\n",
    "#X_reduced = pca.fit_transform(X)\n",
    "cumsum = np.cumsum(pca.explained_variance_ratio_)\n",
    "d = np.argmax(cumsum >= 0.95) + 1\n",
    "d\n",
    "#X_reduced.shape"
   ]
  },
  {
   "cell_type": "code",
   "execution_count": 91,
   "id": "1a7c6108-5d75-48e4-9881-065615a4215e",
   "metadata": {},
   "outputs": [],
   "source": [
    "exp_var_pca = pca.explained_variance_ratio_"
   ]
  },
  {
   "cell_type": "code",
   "execution_count": 92,
   "id": "e363b615-df2e-4457-a6df-09657aad5c04",
   "metadata": {},
   "outputs": [
    {
     "data": {
      "text/plain": [
       "array([4.41496113e-01, 1.91405538e-01, 9.42367919e-02, 6.80501311e-02,\n",
       "       5.19480042e-02, 4.05870817e-02, 2.24481991e-02, 1.60320203e-02,\n",
       "       1.39045582e-02, 1.15945077e-02, 9.47920855e-03, 8.88561842e-03,\n",
       "       8.28667868e-03, 5.37074210e-03, 2.84042970e-03, 2.53399498e-03,\n",
       "       2.10774872e-03, 1.75493871e-03, 1.69423466e-03, 1.09076084e-03,\n",
       "       9.76123897e-04, 8.96411921e-04, 8.16497003e-04, 5.80572689e-04,\n",
       "       4.72906732e-04, 2.25715233e-04, 1.99773205e-04, 5.31978989e-05,\n",
       "       2.63687186e-05, 5.13300075e-06])"
      ]
     },
     "execution_count": 92,
     "metadata": {},
     "output_type": "execute_result"
    }
   ],
   "source": [
    "exp_var_pca"
   ]
  },
  {
   "cell_type": "code",
   "execution_count": 115,
   "id": "002d1d4f-b595-4fcf-a947-ee6afe9a0b00",
   "metadata": {},
   "outputs": [
    {
     "name": "stdout",
     "output_type": "stream",
     "text": [
      "Saving figure bc_pca_captured\n"
     ]
    },
    {
     "data": {
      "image/png": "[encoded data removed]",
      "text/plain": [
       "<Figure size 432x288 with 1 Axes>"
      ]
     },
     "metadata": {
      "needs_background": "light"
     },
     "output_type": "display_data"
    }
   ],
   "source": [
    "plt.figure(figsize=(6,4))\n",
    "plt.bar(range(0,len(exp_var_pca)), exp_var_pca, alpha=0.5, align='center', label='Individual explained variance')\n",
    "plt.step(range(0,len(cumsum)), cumsum, where='mid',label='Cumulative explained variance')\n",
    "plt.axis([0, 13, 0, 1])\n",
    "for i, line in enumerate(exp_var_pca):\n",
    "    x, y = i, line\n",
    "    text = ' {:.2f}'.format(y)\n",
    "    plt.annotate(text, xy=(x+0.05, y-0.05))\n",
    "plt.xlabel(\"Dimensions\")\n",
    "plt.legend(loc='best')\n",
    "plt.ylabel(\"Explained Variance Ratio\")\n",
    "plt.plot([d, d], [0, 0.95], \"k:\")\n",
    "plt.plot([0, d], [0.95, 0.95], \"k:\")\n",
    "\n",
    "plt.plot(d, 0.95, \"ko\")\n",
    "plt.annotate(\"95% variance captured\", xy=(d, 0.90), xytext=(d, 0.7),\n",
    "             arrowprops=dict(arrowstyle=\"->\"), fontsize=12)\n",
    "plt.grid(True)\n",
    "plt.tight_layout()\n",
    "plt.title(\"Breast cancer--changes of explained variances by dimensions\")\n",
    "\n",
    "save_fig(\"bc_pca_captured\")\n"
   ]
  },
  {
   "cell_type": "markdown",
   "id": "1a0b7342-69a9-43c0-b315-69f6241fe37f",
   "metadata": {},
   "source": [
    "# use PCA to visualize high-dimensional dataset"
   ]
  },
  {
   "cell_type": "code",
   "execution_count": 94,
   "id": "d7c76424-247e-4d59-8531-0a16c7ed3d51",
   "metadata": {},
   "outputs": [],
   "source": [
    "pca = PCA(n_components=3)\n",
    "df_2D = pca.fit_transform(x_train)"
   ]
  },
  {
   "cell_type": "code",
   "execution_count": 95,
   "id": "f01f2b4c-260e-4ae6-b522-82a412b25350",
   "metadata": {},
   "outputs": [
    {
     "data": {
      "text/plain": [
       "(455, 3)"
      ]
     },
     "execution_count": 95,
     "metadata": {},
     "output_type": "execute_result"
    }
   ],
   "source": [
    "df_2D.shape"
   ]
  },
  {
   "cell_type": "code",
   "execution_count": 96,
   "id": "18a8e141-5a98-47a9-a514-1540f963916f",
   "metadata": {},
   "outputs": [
    {
     "data": {
      "text/plain": [
       "array([0.44149611, 0.19140554, 0.09423679])"
      ]
     },
     "execution_count": 96,
     "metadata": {},
     "output_type": "execute_result"
    }
   ],
   "source": [
    "pca.explained_variance_ratio_"
   ]
  },
  {
   "cell_type": "code",
   "execution_count": 97,
   "id": "548aaa2c-ff2c-4dd8-b5bc-40c91d530a71",
   "metadata": {},
   "outputs": [
    {
     "data": {
      "text/plain": [
       "<bound method NDFrame.head of           PC1       PC2       PC3  label\n",
       "0   -1.710776  0.856668 -1.999597      0\n",
       "1   -2.968223  1.775246  2.536985      0\n",
       "2   -5.630044 -0.255379  4.047510      0\n",
       "3   -1.192353 -1.626298 -0.339595      0\n",
       "4   -1.026191 -1.982535 -1.118544      0\n",
       "..        ...       ...       ...    ...\n",
       "450  1.109128  0.947899 -2.304211      1\n",
       "451 -1.475565  0.609560 -1.698893      0\n",
       "452 -2.423283 -1.371515 -0.275276      0\n",
       "453 -1.419749  0.181398 -0.218112      0\n",
       "454  2.769085 -4.147348  1.383123      1\n",
       "\n",
       "[455 rows x 4 columns]>"
      ]
     },
     "execution_count": 97,
     "metadata": {},
     "output_type": "execute_result"
    }
   ],
   "source": [
    "df_2D = pd.DataFrame(df_2D)\n",
    "df_2D['label'] = pd.DataFrame.reset_index(pd.DataFrame(y_train),drop=True)\n",
    "df_2D = df_2D.rename(columns={0:'PC1',1:'PC2',2:'PC3'})\n",
    "df_2D.head"
   ]
  },
  {
   "cell_type": "code",
   "execution_count": 98,
   "id": "848ec577-1de2-4c4f-a041-b4b9eec7dd89",
   "metadata": {},
   "outputs": [
    {
     "name": "stdout",
     "output_type": "stream",
     "text": [
      "['0', '1']\n",
      "Saving figure bc_pca_2d\n"
     ]
    },
    {
     "data": {
      "image/png": "[encoded data removed]",
      "text/plain": [
       "<Figure size 432x288 with 1 Axes>"
      ]
     },
     "metadata": {
      "needs_background": "light"
     },
     "output_type": "display_data"
    }
   ],
   "source": [
    "g = sns.scatterplot(x=df_2D['PC1'], y=df_2D['PC2'], hue=df_2D['label'], palette=['r','b'])\n",
    "legend_labels, _= g.get_legend_handles_labels()\n",
    "print(_)\n",
    "g.legend(legend_labels,['benign', 'malignant'])\n",
    "g.set(title='1st and 2st PCA of breast cancer training dataset')\n",
    "save_fig(\"bc_pca_2d\")\n",
    "\n",
    "#ax.set_xlabel(\"PC1\")\n",
    "#ax.set_ylabel(\"PC2\")\n",
    "#ax.legend(loc='upper right')\n",
    "#ax.set_title(\"1st and 2st PCA of swarm behavior training dataset\")"
   ]
  },
  {
   "cell_type": "code",
   "execution_count": 99,
   "id": "9036a4d6-72c0-425d-96f7-759dd4d2b372",
   "metadata": {},
   "outputs": [
    {
     "data": {
      "text/plain": [
       "[0, 1]"
      ]
     },
     "execution_count": 99,
     "metadata": {},
     "output_type": "execute_result"
    }
   ],
   "source": [
    "list(pd.unique(df_2D['label']))"
   ]
  },
  {
   "cell_type": "code",
   "execution_count": 100,
   "id": "78e4e85a-37e8-41a1-930f-04454b2edf68",
   "metadata": {},
   "outputs": [
    {
     "name": "stdout",
     "output_type": "stream",
     "text": [
      "['[0, 1]']\n",
      "Saving figure bc_pca_3d\n"
     ]
    },
    {
     "data": {
      "image/png": "[encoded data removed]",
      "text/plain": [
       "<Figure size 432x360 with 1 Axes>"
      ]
     },
     "metadata": {
      "needs_background": "light"
     },
     "output_type": "display_data"
    }
   ],
   "source": [
    "from mpl_toolkits.mplot3d import Axes3D\n",
    "from matplotlib.colors import ListedColormap\n",
    "\n",
    "color_dict={0:'r', 1:'b'}\n",
    "fig = plt.figure(figsize=(6, 5))\n",
    "\n",
    "ax = plt.subplot(111, projection='3d')\n",
    "\n",
    "ax.scatter(df_2D['PC1'], df_2D['PC2'], df_2D['PC3'], c = [color_dict[i] for i in df_2D['label']], \\\n",
    "           label=list(i for i in pd.unique(df_2D['label'])))\n",
    "legend_labels, _= ax.get_legend_handles_labels()\n",
    "print(_)\n",
    "ax.set_xlabel('PC1')\n",
    "ax.set_ylabel('PC2')\n",
    "ax.set_zlabel('PC3')\n",
    "ax.set_title(\"1st, 2st, and 3rd PCA of breast cancer training dataset\")\n",
    "#ax.legend()\n",
    "save_fig(\"bc_pca_3d\")\n"
   ]
  },
  {
   "cell_type": "markdown",
   "id": "b4aff40c-d827-4769-994d-e4eaeaffde40",
   "metadata": {},
   "source": [
    "# Start to train a binary classifier"
   ]
  },
  {
   "cell_type": "code",
   "execution_count": 101,
   "id": "66b289f5-e918-4d2c-bf37-76c04f1443b0",
   "metadata": {},
   "outputs": [
    {
     "name": "stdout",
     "output_type": "stream",
     "text": [
      "Random forest took 0.12774s.\n"
     ]
    }
   ],
   "source": [
    "t0 = time.time()\n",
    "clf = RandomForestClassifier(max_depth=3, random_state=42)\n",
    "clf.fit(x_train,y_train)\n",
    "y_pred=clf.predict(x_test)\n",
    "t1 = time.time()\n",
    "time_before_pca = t1-t0\n",
    "print(\"Random forest took {:.5f}s.\".format(t1 - t0))"
   ]
  },
  {
   "cell_type": "code",
   "execution_count": 102,
   "id": "625e8be4-063a-435e-817a-c8ad20fc9958",
   "metadata": {},
   "outputs": [
    {
     "data": {
      "text/plain": [
       "array([[68,  3],\n",
       "       [ 2, 41]])"
      ]
     },
     "execution_count": 102,
     "metadata": {},
     "output_type": "execute_result"
    }
   ],
   "source": [
    "confusion_matrix(y_test, y_pred)"
   ]
  },
  {
   "cell_type": "code",
   "execution_count": 103,
   "id": "01fcd441-cdc2-4b09-8ec3-52335a0a970b",
   "metadata": {},
   "outputs": [
    {
     "data": {
      "text/plain": [
       "0.942528735632184"
      ]
     },
     "execution_count": 103,
     "metadata": {},
     "output_type": "execute_result"
    }
   ],
   "source": [
    "f1_before_pca = f1_score(y_test, y_pred)\n",
    "f1_before_pca"
   ]
  },
  {
   "cell_type": "markdown",
   "id": "a8cf6214-e923-4342-88c4-9e57a991bd09",
   "metadata": {},
   "source": [
    "pca = PCA()\n",
    "pca.fit(x_train)\n",
    "#X_reduced = pca.fit_transform(x_train)\n",
    "cumsum = np.cumsum(pca.explained_variance_ratio_)\n",
    "d = np.argmax(cumsum >= 0.95) + 1\n",
    "d# Retrain the classifier with datasets after PCA transformation to the optimal dimension (captured 95% variance)"
   ]
  },
  {
   "cell_type": "code",
   "execution_count": 104,
   "id": "a9ed37ba-4a42-4cd8-9821-c971f166bd17",
   "metadata": {},
   "outputs": [],
   "source": [
    "pca = PCA(n_components = d)\n",
    "X_reduced = pca.fit_transform(x_train)\n",
    "X_test_reduced = pca.fit_transform(x_test)"
   ]
  },
  {
   "cell_type": "code",
   "execution_count": 105,
   "id": "9ecaec95-debe-4b76-ade1-ea031f916ba8",
   "metadata": {},
   "outputs": [
    {
     "data": {
      "text/plain": [
       "array([[-0.37494652, -1.171005  , -0.36744637, ..., -0.15834265,\n",
       "         0.26742287,  0.979068  ],\n",
       "       [-1.22644666,  0.76936993, -1.17024743, ..., -0.91524313,\n",
       "         0.03397785,  0.31565839],\n",
       "       [-2.07515263, -1.41311351, -2.15598975, ..., -1.61614793,\n",
       "        -0.91254601, -1.03772938],\n",
       "       ...,\n",
       "       [-0.24347896, -0.59514765, -0.28022161, ..., -0.60184463,\n",
       "        -0.38461503, -0.70900855],\n",
       "       [-0.26517281, -0.14598938, -0.25046342, ..., -0.12795071,\n",
       "        -0.43051202,  0.17089238],\n",
       "       [ 1.6388311 ,  0.73695922,  1.58551575, ...,  0.3395011 ,\n",
       "        -1.46684491, -1.78566593]])"
      ]
     },
     "execution_count": 105,
     "metadata": {},
     "output_type": "execute_result"
    }
   ],
   "source": [
    "X_recovered = pca.inverse_transform(X_reduced)\n",
    "X_recovered"
   ]
  },
  {
   "cell_type": "code",
   "execution_count": 106,
   "id": "fa3bc6f4-a4ca-44e8-8947-3c832593136c",
   "metadata": {},
   "outputs": [
    {
     "data": {
      "text/plain": [
       "array([[0.64912141]])"
      ]
     },
     "execution_count": 106,
     "metadata": {},
     "output_type": "execute_result"
    }
   ],
   "source": [
    "from sklearn.metrics.pairwise import cosine_similarity,cosine_distances\n",
    "result=cosine_similarity(np.asarray(X_recovered).reshape(1,-1),np.asarray(x_train).reshape(1,-1))\n",
    "result"
   ]
  },
  {
   "cell_type": "code",
   "execution_count": 107,
   "id": "cdf3340d-80a4-447e-867a-1fa08556d231",
   "metadata": {},
   "outputs": [
    {
     "name": "stdout",
     "output_type": "stream",
     "text": [
      "Random forest took 0.11395s.\n"
     ]
    }
   ],
   "source": [
    "t0 = time.time()\n",
    "clf2 = RandomForestClassifier(max_depth=3, random_state=42)\n",
    "clf2.fit(X_reduced,y_train)\n",
    "y_pred2=clf2.predict(X_test_reduced)\n",
    "t1 = time.time()\n",
    "time_after_pca = t1-t0\n",
    "\n",
    "print(\"Random forest took {:.5f}s.\".format(t1 - t0))"
   ]
  },
  {
   "cell_type": "code",
   "execution_count": 108,
   "id": "9364bb8c-42b1-4fbc-a939-7e540f6129a4",
   "metadata": {},
   "outputs": [
    {
     "data": {
      "text/plain": [
       "array([[69,  2],\n",
       "       [ 4, 39]])"
      ]
     },
     "execution_count": 108,
     "metadata": {},
     "output_type": "execute_result"
    }
   ],
   "source": [
    "confusion_matrix(y_test, y_pred2)"
   ]
  },
  {
   "cell_type": "code",
   "execution_count": 109,
   "id": "7fac6bae-c480-43fe-a76d-a2913a8ec8aa",
   "metadata": {},
   "outputs": [
    {
     "data": {
      "text/plain": [
       "0.9285714285714286"
      ]
     },
     "execution_count": 109,
     "metadata": {},
     "output_type": "execute_result"
    }
   ],
   "source": [
    "f1_after_pca = f1_score(y_test, y_pred2)\n",
    "f1_after_pca"
   ]
  },
  {
   "cell_type": "code",
   "execution_count": 110,
   "id": "065e3ca8-f093-4784-935f-7bfe287d6b04",
   "metadata": {},
   "outputs": [],
   "source": [
    "f1_variance = (f1_after_pca-f1_before_pca)/f1_before_pca*100\n",
    "time_variance = (time_after_pca-time_before_pca)/time_before_pca*100\n"
   ]
  },
  {
   "cell_type": "code",
   "execution_count": 111,
   "id": "da54f897-bd4e-4adf-b350-a9d10df6f1e1",
   "metadata": {},
   "outputs": [
    {
     "name": "stdout",
     "output_type": "stream",
     "text": [
      "-1.480836236933802 -10.796253058527764\n"
     ]
    }
   ],
   "source": [
    "print(f1_variance, time_variance)"
   ]
  },
  {
   "cell_type": "code",
   "execution_count": 113,
   "id": "9bb757a8-9d95-4b28-976a-37527ef4a50c",
   "metadata": {},
   "outputs": [
    {
     "name": "stdout",
     "output_type": "stream",
     "text": [
      "Saving figure bc_roc\n"
     ]
    },
    {
     "data": {
      "image/png": "[encoded data removed]",
      "text/plain": [
       "<Figure size 432x288 with 1 Axes>"
      ]
     },
     "metadata": {
      "needs_background": "light"
     },
     "output_type": "display_data"
    }
   ],
   "source": [
    "n_classes = 2\n",
    "fpr = dict()\n",
    "tpr = dict()\n",
    "roc_auc = dict()\n",
    "fpr[0], tpr[0], _ = roc_curve(y_test, y_pred)\n",
    "roc_auc[0] = auc(fpr[0], tpr[0])\n",
    "fpr[1], tpr[1], _ = roc_curve(y_test, y_pred2)\n",
    "roc_auc[1] = auc(fpr[1], tpr[1])\n",
    "\n",
    "#fpr[\"micro1\"], tpr[\"micro1\"], _ = roc_curve(y_test.ravel(), y_pred.ravel())\n",
    "#roc_auc[\"micro1\"] = auc(fpr[\"micro1\"], tpr[\"micro1\"])\n",
    "#all_fpr = np.unique(np.concatenate([fpr[i] for i in range(n_classes)]))\n",
    "#lw = 1\n",
    "#mean_tpr = np.zeros_like(all_fpr)\n",
    "#print(all_fpr)\n",
    "plt.figure()\n",
    "lw = 2\n",
    "plt.plot(\n",
    "    fpr[0],\n",
    "    tpr[0],\n",
    "    color=\"darkorange\",\n",
    "    lw=lw,\n",
    "    label=\"ROC curve before PCA (area = %0.2f)\" % roc_auc[0],\n",
    ")\n",
    "plt.plot(\n",
    "    fpr[1],\n",
    "    tpr[1],\n",
    "    color=\"red\",\n",
    "    linestyle='-.',\n",
    "    lw=lw,\n",
    "    label=\"ROC curve after PCA (area = %0.2f)\" % roc_auc[1],\n",
    ")\n",
    "plt.plot([0, 1], [0, 1], color=\"lightblue\", lw=lw, linestyle=\"--\")\n",
    "plt.xlim([0.0, 1.0])\n",
    "plt.ylim([0.0, 1.05])\n",
    "plt.xlabel(\"False Positive Rate\")\n",
    "plt.ylabel(\"True Positive Rate\")\n",
    "plt.title(\"ROC for breast cancer datset\")\n",
    "plt.legend(loc=\"lower right\")\n",
    "\n",
    "save_fig(\"bc_roc\")\n"
   ]
  },
  {
   "cell_type": "code",
   "execution_count": null,
   "id": "32731bd0-0344-4e54-a67d-c8e9d16827cc",
   "metadata": {},
   "outputs": [],
   "source": []
  }
 ],
 "metadata": {
  "kernelspec": {
   "display_name": "mypy38",
   "language": "python",
   "name": "mypy38"
  },
  "language_info": {
   "codemirror_mode": {
    "name": "ipython",
    "version": 3
   },
   "file_extension": ".py",
   "mimetype": "text/x-python",
   "name": "python",
   "nbconvert_exporter": "python",
   "pygments_lexer": "ipython3",
   "version": "3.8.12"
  }
 },
 "nbformat": 4,
 "nbformat_minor": 5
}
